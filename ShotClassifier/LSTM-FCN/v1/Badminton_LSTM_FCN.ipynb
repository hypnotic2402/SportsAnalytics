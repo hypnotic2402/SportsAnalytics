{
  "cells": [
    {
      "cell_type": "code",
      "execution_count": null,
      "metadata": {
        "colab": {
          "base_uri": "https://localhost:8080/"
        },
        "id": "BaRFd8vkNXgA",
        "outputId": "a324f1d3-6c61-4fb5-9a85-61dbf39b088c"
      },
      "outputs": [
        {
          "name": "stdout",
          "output_type": "stream",
          "text": [
            "Drive already mounted at /content/drive; to attempt to forcibly remount, call drive.mount(\"/content/drive\", force_remount=True).\n"
          ]
        }
      ],
      "source": [
        "from google.colab import drive\n",
        "drive.mount('/content/drive')"
      ]
    },
    {
      "cell_type": "code",
      "execution_count": null,
      "metadata": {
        "colab": {
          "base_uri": "https://localhost:8080/"
        },
        "id": "bU9UVZGgPCX6",
        "outputId": "2590e430-d020-494c-db93-e874d3561f03"
      },
      "outputs": [
        {
          "name": "stdout",
          "output_type": "stream",
          "text": [
            "41\n"
          ]
        }
      ],
      "source": [
        "import pandas as pd\n",
        "import matplotlib.pyplot as plt\n",
        "import numpy as np\n",
        "import csv\n",
        "import glob\n",
        "from sklearn.preprocessing import StandardScaler\n",
        "import os\n",
        "\n",
        "# f1 = pd.read_csv('/content/drive/MyDrive/badmintonDaata/p1-s1-v2.csv')\n",
        "# f2 = pd.read_csv('/content/drive/MyDrive/badmintonDaata/p1-s1-v3.csv')\n",
        "\n",
        "# def fillDataSet():\n",
        "\n",
        "columnsF = ['rea' , 'rwa' , 'rsa' , 'rha' , 'rka' , 'lea' , 'lwa' , 'lsa' , 'lha' , 'lka']\n",
        "\n",
        "def getshottype(filename):\n",
        "    file = open(filename)\n",
        "    file = csv.reader(file)\n",
        "    count = 0\n",
        "    for row in file:\n",
        "        if(count == 1):\n",
        "            typ = row[11]\n",
        "        count=count+1\n",
        "    return typ\n",
        "\n",
        "def getfiledata(filename):\n",
        "    dataset = np.loadtxt(filename, delimiter =\",\", dtype = float, skiprows=1, usecols = range(1, 11)).T\n",
        "    # dataset = dataset.tolist()\n",
        "    return dataset\n",
        "\n",
        "def readFiles(fn):\n",
        "  ds = pd.read_csv(fn)\n",
        "  return ds\n",
        "\n",
        "def findMinFrameSize():\n",
        "  fs = []\n",
        "  all_files = glob.glob(f\"/content/drive/MyDrive/badmintonDaata/*.csv\")\n",
        "  for filename in all_files:\n",
        "    d = readFiles(filename)\n",
        "    fs.append(d.shape[0])\n",
        "  fs.sort()\n",
        "  return fs[0]\n",
        "\n",
        "def fillDataSet(labels):  # function to fill the data set\n",
        "    ds = []\n",
        "    path = f\"/content/drive/MyDrive/badmintonDaata\"\n",
        "    all_files = glob.glob(f\"/content/drive/MyDrive/badmintonDaata/*.csv\")\n",
        "    # all_files = os.listdir('/content/drive/MyDrive/badmintonDaata')\n",
        "    for filename in all_files:\n",
        "        # print(filename)\n",
        "        # filedata = getfiledata(filename)\n",
        "        d = readFiles(filename)\n",
        "        typ = getshottype(filename)\n",
        "        d['class'] = int(typ)\n",
        "        labels.append(d['class'][0])\n",
        "        try:\n",
        "          d = d.drop(columns=['Unnamed: 11'])\n",
        "        except:\n",
        "          pass\n",
        "        try:\n",
        "          d = d.drop(columns=['type'])\n",
        "        except:\n",
        "          pass       \n",
        "       \n",
        "        d = d[:41]\n",
        "        scaler = StandardScaler()\n",
        "        scaler.fit(d[columnsF].values)\n",
        "        ds.append(scaler.transform(d[columnsF].values))\n",
        "        # ds.append(d)\n",
        "    ds = np.array(ds)\n",
        "    return ds\n",
        "\n",
        "classes = [1,2,3,4]\n",
        "labels = []\n",
        "\n",
        "print(findMinFrameSize())\n",
        "\n",
        "# def getTestData(fn):  # function to get the test data\n",
        "#     # path = \"../test/p1-s1-v1.csv\"\n",
        "#     path = \"../../../test/\" + fn\n",
        "#     dataset = np.loadtxt(path, delimiter =\",\", dtype = float, skiprows=1, usecols = range(1, 11)).T\n",
        "#     dataset = dataset.tolist()\n",
        "#     return [dataset,getshottype(path)]\n",
        "\n",
        "# x = []\n",
        "# fillDataSet(x)"
      ]
    },
    {
      "cell_type": "code",
      "execution_count": null,
      "metadata": {
        "id": "iJthEsVHs-Z7"
      },
      "outputs": [],
      "source": [
        "xDs = fillDataSet(labels)"
      ]
    },
    {
      "cell_type": "code",
      "execution_count": null,
      "metadata": {
        "colab": {
          "base_uri": "https://localhost:8080/"
        },
        "id": "tlyh6z1B6D7R",
        "outputId": "0d4488b0-076c-4488-8c77-f74770876bbf"
      },
      "outputs": [
        {
          "data": {
            "text/plain": [
              "(218, 41, 10)"
            ]
          },
          "execution_count": 79,
          "metadata": {},
          "output_type": "execute_result"
        }
      ],
      "source": [
        "xDs.shape"
      ]
    },
    {
      "cell_type": "code",
      "execution_count": null,
      "metadata": {
        "id": "HC44WRxE1z0d"
      },
      "outputs": [],
      "source": [
        "from sklearn import preprocessing\n",
        "le = preprocessing.LabelEncoder()\n",
        "le.fit(labels)\n",
        "labels=le.transform(labels) \n",
        "\n",
        "# labels"
      ]
    },
    {
      "cell_type": "code",
      "execution_count": null,
      "metadata": {
        "id": "EjwXBbdPSqkl"
      },
      "outputs": [],
      "source": [
        "from keras import optimizers\n",
        "from sklearn.model_selection import train_test_split\n",
        "X_train, X_test, y_train, y_test = train_test_split(xDs, labels, test_size=0.3, random_state=31)\n",
        "X_test, X_predict, y_test, y_predict = train_test_split(X_test, y_test, test_size=0.1, random_state=31)"
      ]
    },
    {
      "cell_type": "code",
      "execution_count": null,
      "metadata": {
        "colab": {
          "base_uri": "https://localhost:8080/"
        },
        "id": "XT17ErASS9SJ",
        "outputId": "dda0afdc-a294-42e7-ef6f-3cd105a1dcc2"
      },
      "outputs": [
        {
          "data": {
            "text/plain": [
              "(152, 41, 10)"
            ]
          },
          "execution_count": 82,
          "metadata": {},
          "output_type": "execute_result"
        }
      ],
      "source": [
        "X_train.shape"
      ]
    },
    {
      "cell_type": "code",
      "execution_count": null,
      "metadata": {
        "colab": {
          "base_uri": "https://localhost:8080/"
        },
        "id": "QMWZGgx8TCyN",
        "outputId": "fb56041d-5745-45bd-c0f9-12bacdfc4d17"
      },
      "outputs": [
        {
          "data": {
            "text/plain": [
              "(59, 41, 10)"
            ]
          },
          "execution_count": 83,
          "metadata": {},
          "output_type": "execute_result"
        }
      ],
      "source": [
        "X_test.shape"
      ]
    },
    {
      "cell_type": "code",
      "execution_count": null,
      "metadata": {
        "colab": {
          "base_uri": "https://localhost:8080/"
        },
        "id": "FN78txyeTFGH",
        "outputId": "fd2590f1-7455-4460-fe2f-bfa8eaa2e15c"
      },
      "outputs": [
        {
          "data": {
            "text/plain": [
              "(7, 41, 10)"
            ]
          },
          "execution_count": 84,
          "metadata": {},
          "output_type": "execute_result"
        }
      ],
      "source": [
        "X_predict.shape"
      ]
    },
    {
      "cell_type": "code",
      "execution_count": null,
      "metadata": {
        "id": "OQwafRaktYSL"
      },
      "outputs": [],
      "source": [
        "from keras.models import Sequential\n",
        "from keras.layers import Dense\n",
        "from keras.layers import *\n",
        "\n",
        "from keras.models import Model\n",
        "from keras.layers import Input, PReLU, Dense, LSTM, multiply, concatenate, Activation\n",
        "from keras.layers import Conv1D, BatchNormalization, GlobalAveragePooling1D, Permute, Dropout\n",
        "from keras.callbacks import ModelCheckpoint\n",
        "from tensorflow import keras\n",
        "from tensorflow.keras import layers\n",
        "\n",
        "\n",
        "ip = Input(shape=(xDs.shape[1], xDs.shape[2]))\n",
        "\n",
        "x = Permute((2, 1))(ip) # dimension shuffle\n",
        "x=LSTM(10)(x)\n",
        "x = Dropout(0.8)(x)\n",
        "\n",
        "\n",
        "y = Conv1D(128, 8, padding='same', kernel_initializer='he_uniform')(ip)\n",
        "y = BatchNormalization()(y)\n",
        "y = Activation('relu')(y)\n",
        "y = Conv1D(256, 5, padding='same', kernel_initializer='he_uniform')(y)\n",
        "y = BatchNormalization()(y)\n",
        "y = Activation('relu')(y)\n",
        "y = Conv1D(128, 3, padding='same', kernel_initializer='he_uniform')(y)\n",
        "y = BatchNormalization()(y)\n",
        "y = Activation('relu')(y)\n",
        "y = GlobalAveragePooling1D()(y)\n",
        "\n",
        "x = concatenate([x, y])\n",
        "out = Dense(4, activation='sigmoid')(y)\n",
        "model = Model(ip, out)"
      ]
    },
    {
      "cell_type": "code",
      "execution_count": null,
      "metadata": {
        "colab": {
          "base_uri": "https://localhost:8080/"
        },
        "id": "Ol9vgEMBv_Hj",
        "outputId": "8839d0b5-c0e1-4634-921a-7012b6c52e87"
      },
      "outputs": [
        {
          "name": "stdout",
          "output_type": "stream",
          "text": [
            "Model: \"model_5\"\n",
            "_________________________________________________________________\n",
            " Layer (type)                Output Shape              Param #   \n",
            "=================================================================\n",
            " input_6 (InputLayer)        [(None, 41, 10)]          0         \n",
            "                                                                 \n",
            " conv1d_15 (Conv1D)          (None, 41, 128)           10368     \n",
            "                                                                 \n",
            " batch_normalization_15 (Bat  (None, 41, 128)          512       \n",
            " chNormalization)                                                \n",
            "                                                                 \n",
            " activation_15 (Activation)  (None, 41, 128)           0         \n",
            "                                                                 \n",
            " conv1d_16 (Conv1D)          (None, 41, 256)           164096    \n",
            "                                                                 \n",
            " batch_normalization_16 (Bat  (None, 41, 256)          1024      \n",
            " chNormalization)                                                \n",
            "                                                                 \n",
            " activation_16 (Activation)  (None, 41, 256)           0         \n",
            "                                                                 \n",
            " conv1d_17 (Conv1D)          (None, 41, 128)           98432     \n",
            "                                                                 \n",
            " batch_normalization_17 (Bat  (None, 41, 128)          512       \n",
            " chNormalization)                                                \n",
            "                                                                 \n",
            " activation_17 (Activation)  (None, 41, 128)           0         \n",
            "                                                                 \n",
            " global_average_pooling1d_5   (None, 128)              0         \n",
            " (GlobalAveragePooling1D)                                        \n",
            "                                                                 \n",
            " dense_5 (Dense)             (None, 4)                 516       \n",
            "                                                                 \n",
            "=================================================================\n",
            "Total params: 275,460\n",
            "Trainable params: 274,436\n",
            "Non-trainable params: 1,024\n",
            "_________________________________________________________________\n"
          ]
        }
      ],
      "source": [
        "model.summary()"
      ]
    },
    {
      "cell_type": "code",
      "execution_count": null,
      "metadata": {
        "colab": {
          "base_uri": "https://localhost:8080/"
        },
        "id": "JWbF8QBGwrzp",
        "outputId": "e0f973d2-88a8-424a-a985-e5c78b8e5cc2"
      },
      "outputs": [
        {
          "name": "stdout",
          "output_type": "stream",
          "text": [
            "Epoch 1/100\n",
            "2/2 - 1s - loss: 1.3548 - accuracy: 0.3026 - val_loss: 1.1816 - val_accuracy: 0.3559 - 1s/epoch - 599ms/step\n",
            "Epoch 2/100\n",
            "2/2 - 0s - loss: 0.8256 - accuracy: 0.8553 - val_loss: 0.9189 - val_accuracy: 0.5763 - 40ms/epoch - 20ms/step\n",
            "Epoch 3/100\n",
            "2/2 - 0s - loss: 0.5724 - accuracy: 0.9079 - val_loss: 0.7708 - val_accuracy: 0.6610 - 38ms/epoch - 19ms/step\n",
            "Epoch 4/100\n",
            "2/2 - 0s - loss: 0.4252 - accuracy: 0.9474 - val_loss: 0.6778 - val_accuracy: 0.7119 - 44ms/epoch - 22ms/step\n",
            "Epoch 5/100\n",
            "2/2 - 0s - loss: 0.3434 - accuracy: 0.9605 - val_loss: 0.5984 - val_accuracy: 0.7797 - 40ms/epoch - 20ms/step\n",
            "Epoch 6/100\n",
            "2/2 - 0s - loss: 0.2561 - accuracy: 0.9803 - val_loss: 0.5289 - val_accuracy: 0.8305 - 39ms/epoch - 19ms/step\n",
            "Epoch 7/100\n",
            "2/2 - 0s - loss: 0.2026 - accuracy: 0.9868 - val_loss: 0.4779 - val_accuracy: 0.8305 - 37ms/epoch - 18ms/step\n",
            "Epoch 8/100\n",
            "2/2 - 0s - loss: 0.1676 - accuracy: 0.9934 - val_loss: 0.4538 - val_accuracy: 0.7797 - 41ms/epoch - 21ms/step\n",
            "Epoch 9/100\n",
            "2/2 - 0s - loss: 0.1303 - accuracy: 1.0000 - val_loss: 0.4481 - val_accuracy: 0.8136 - 39ms/epoch - 19ms/step\n",
            "Epoch 10/100\n",
            "2/2 - 0s - loss: 0.1126 - accuracy: 1.0000 - val_loss: 0.4453 - val_accuracy: 0.8136 - 58ms/epoch - 29ms/step\n",
            "Epoch 11/100\n",
            "2/2 - 0s - loss: 0.0952 - accuracy: 1.0000 - val_loss: 0.4322 - val_accuracy: 0.8475 - 38ms/epoch - 19ms/step\n",
            "Epoch 12/100\n",
            "2/2 - 0s - loss: 0.0817 - accuracy: 1.0000 - val_loss: 0.4064 - val_accuracy: 0.8475 - 39ms/epoch - 19ms/step\n",
            "Epoch 13/100\n",
            "2/2 - 0s - loss: 0.0677 - accuracy: 1.0000 - val_loss: 0.3752 - val_accuracy: 0.8644 - 38ms/epoch - 19ms/step\n",
            "Epoch 14/100\n",
            "2/2 - 0s - loss: 0.0555 - accuracy: 1.0000 - val_loss: 0.3428 - val_accuracy: 0.8983 - 42ms/epoch - 21ms/step\n",
            "Epoch 15/100\n",
            "2/2 - 0s - loss: 0.0496 - accuracy: 1.0000 - val_loss: 0.3138 - val_accuracy: 0.8983 - 40ms/epoch - 20ms/step\n",
            "Epoch 16/100\n",
            "2/2 - 0s - loss: 0.0486 - accuracy: 1.0000 - val_loss: 0.2921 - val_accuracy: 0.9153 - 39ms/epoch - 20ms/step\n",
            "Epoch 17/100\n",
            "2/2 - 0s - loss: 0.0400 - accuracy: 1.0000 - val_loss: 0.2854 - val_accuracy: 0.9153 - 39ms/epoch - 19ms/step\n",
            "Epoch 18/100\n",
            "2/2 - 0s - loss: 0.0318 - accuracy: 1.0000 - val_loss: 0.2827 - val_accuracy: 0.9322 - 39ms/epoch - 19ms/step\n",
            "Epoch 19/100\n",
            "2/2 - 0s - loss: 0.0284 - accuracy: 1.0000 - val_loss: 0.2829 - val_accuracy: 0.9322 - 38ms/epoch - 19ms/step\n",
            "Epoch 20/100\n",
            "2/2 - 0s - loss: 0.0249 - accuracy: 1.0000 - val_loss: 0.2840 - val_accuracy: 0.9322 - 42ms/epoch - 21ms/step\n",
            "Epoch 21/100\n",
            "2/2 - 0s - loss: 0.0213 - accuracy: 1.0000 - val_loss: 0.2856 - val_accuracy: 0.9322 - 42ms/epoch - 21ms/step\n",
            "Epoch 22/100\n",
            "2/2 - 0s - loss: 0.0197 - accuracy: 1.0000 - val_loss: 0.2897 - val_accuracy: 0.9322 - 38ms/epoch - 19ms/step\n",
            "Epoch 23/100\n",
            "2/2 - 0s - loss: 0.0206 - accuracy: 1.0000 - val_loss: 0.2960 - val_accuracy: 0.9322 - 40ms/epoch - 20ms/step\n",
            "Epoch 24/100\n",
            "2/2 - 0s - loss: 0.0190 - accuracy: 1.0000 - val_loss: 0.3038 - val_accuracy: 0.9153 - 38ms/epoch - 19ms/step\n",
            "Epoch 25/100\n",
            "2/2 - 0s - loss: 0.0141 - accuracy: 1.0000 - val_loss: 0.3147 - val_accuracy: 0.9153 - 38ms/epoch - 19ms/step\n",
            "Epoch 26/100\n",
            "2/2 - 0s - loss: 0.0151 - accuracy: 1.0000 - val_loss: 0.3298 - val_accuracy: 0.9153 - 37ms/epoch - 18ms/step\n",
            "Epoch 27/100\n",
            "2/2 - 0s - loss: 0.0116 - accuracy: 1.0000 - val_loss: 0.3429 - val_accuracy: 0.9153 - 45ms/epoch - 23ms/step\n",
            "Epoch 28/100\n",
            "2/2 - 0s - loss: 0.0148 - accuracy: 1.0000 - val_loss: 0.3528 - val_accuracy: 0.9153 - 40ms/epoch - 20ms/step\n",
            "Epoch 29/100\n",
            "2/2 - 0s - loss: 0.0108 - accuracy: 1.0000 - val_loss: 0.3586 - val_accuracy: 0.9153 - 41ms/epoch - 20ms/step\n",
            "Epoch 30/100\n",
            "2/2 - 0s - loss: 0.0096 - accuracy: 1.0000 - val_loss: 0.3617 - val_accuracy: 0.9153 - 39ms/epoch - 19ms/step\n",
            "Epoch 31/100\n",
            "2/2 - 0s - loss: 0.0100 - accuracy: 1.0000 - val_loss: 0.3605 - val_accuracy: 0.9153 - 37ms/epoch - 19ms/step\n",
            "Epoch 32/100\n",
            "2/2 - 0s - loss: 0.0093 - accuracy: 1.0000 - val_loss: 0.3517 - val_accuracy: 0.9153 - 41ms/epoch - 21ms/step\n",
            "Epoch 33/100\n",
            "2/2 - 0s - loss: 0.0108 - accuracy: 1.0000 - val_loss: 0.3443 - val_accuracy: 0.9153 - 40ms/epoch - 20ms/step\n",
            "Epoch 34/100\n",
            "2/2 - 0s - loss: 0.0080 - accuracy: 1.0000 - val_loss: 0.3359 - val_accuracy: 0.9153 - 39ms/epoch - 19ms/step\n",
            "Epoch 35/100\n",
            "2/2 - 0s - loss: 0.0094 - accuracy: 1.0000 - val_loss: 0.3292 - val_accuracy: 0.9153 - 40ms/epoch - 20ms/step\n",
            "Epoch 36/100\n",
            "2/2 - 0s - loss: 0.0080 - accuracy: 1.0000 - val_loss: 0.3231 - val_accuracy: 0.9153 - 39ms/epoch - 19ms/step\n",
            "Epoch 37/100\n",
            "2/2 - 0s - loss: 0.0080 - accuracy: 1.0000 - val_loss: 0.3196 - val_accuracy: 0.9153 - 39ms/epoch - 19ms/step\n",
            "Epoch 38/100\n",
            "2/2 - 0s - loss: 0.0066 - accuracy: 1.0000 - val_loss: 0.3196 - val_accuracy: 0.9153 - 38ms/epoch - 19ms/step\n",
            "Epoch 39/100\n",
            "2/2 - 0s - loss: 0.0106 - accuracy: 1.0000 - val_loss: 0.3195 - val_accuracy: 0.9153 - 39ms/epoch - 19ms/step\n",
            "Epoch 40/100\n",
            "2/2 - 0s - loss: 0.0069 - accuracy: 1.0000 - val_loss: 0.3145 - val_accuracy: 0.9153 - 38ms/epoch - 19ms/step\n",
            "Epoch 41/100\n",
            "2/2 - 0s - loss: 0.0089 - accuracy: 1.0000 - val_loss: 0.3034 - val_accuracy: 0.9153 - 40ms/epoch - 20ms/step\n",
            "Epoch 42/100\n",
            "2/2 - 0s - loss: 0.0056 - accuracy: 1.0000 - val_loss: 0.2908 - val_accuracy: 0.9153 - 42ms/epoch - 21ms/step\n",
            "Epoch 43/100\n",
            "2/2 - 0s - loss: 0.0060 - accuracy: 1.0000 - val_loss: 0.2814 - val_accuracy: 0.9153 - 40ms/epoch - 20ms/step\n",
            "Epoch 44/100\n",
            "2/2 - 0s - loss: 0.0057 - accuracy: 1.0000 - val_loss: 0.2720 - val_accuracy: 0.9153 - 39ms/epoch - 20ms/step\n",
            "Epoch 45/100\n",
            "2/2 - 0s - loss: 0.0048 - accuracy: 1.0000 - val_loss: 0.2642 - val_accuracy: 0.9322 - 38ms/epoch - 19ms/step\n",
            "Epoch 46/100\n",
            "2/2 - 0s - loss: 0.0055 - accuracy: 1.0000 - val_loss: 0.2576 - val_accuracy: 0.9322 - 39ms/epoch - 19ms/step\n",
            "Epoch 47/100\n",
            "2/2 - 0s - loss: 0.0051 - accuracy: 1.0000 - val_loss: 0.2528 - val_accuracy: 0.9322 - 54ms/epoch - 27ms/step\n",
            "Epoch 48/100\n",
            "2/2 - 0s - loss: 0.0064 - accuracy: 1.0000 - val_loss: 0.2494 - val_accuracy: 0.9322 - 40ms/epoch - 20ms/step\n",
            "Epoch 49/100\n",
            "2/2 - 0s - loss: 0.0043 - accuracy: 1.0000 - val_loss: 0.2476 - val_accuracy: 0.9322 - 41ms/epoch - 21ms/step\n",
            "Epoch 50/100\n",
            "2/2 - 0s - loss: 0.0047 - accuracy: 1.0000 - val_loss: 0.2460 - val_accuracy: 0.9322 - 40ms/epoch - 20ms/step\n",
            "Epoch 51/100\n",
            "2/2 - 0s - loss: 0.0041 - accuracy: 1.0000 - val_loss: 0.2434 - val_accuracy: 0.9322 - 40ms/epoch - 20ms/step\n",
            "Epoch 52/100\n",
            "2/2 - 0s - loss: 0.0047 - accuracy: 1.0000 - val_loss: 0.2412 - val_accuracy: 0.9322 - 39ms/epoch - 20ms/step\n",
            "Epoch 53/100\n",
            "2/2 - 0s - loss: 0.0040 - accuracy: 1.0000 - val_loss: 0.2401 - val_accuracy: 0.9322 - 39ms/epoch - 20ms/step\n",
            "Epoch 54/100\n",
            "2/2 - 0s - loss: 0.0042 - accuracy: 1.0000 - val_loss: 0.2386 - val_accuracy: 0.9322 - 39ms/epoch - 19ms/step\n",
            "Epoch 55/100\n",
            "2/2 - 0s - loss: 0.0036 - accuracy: 1.0000 - val_loss: 0.2383 - val_accuracy: 0.9322 - 39ms/epoch - 20ms/step\n",
            "Epoch 56/100\n",
            "2/2 - 0s - loss: 0.0037 - accuracy: 1.0000 - val_loss: 0.2379 - val_accuracy: 0.9322 - 38ms/epoch - 19ms/step\n",
            "Epoch 57/100\n",
            "2/2 - 0s - loss: 0.0037 - accuracy: 1.0000 - val_loss: 0.2370 - val_accuracy: 0.9322 - 38ms/epoch - 19ms/step\n",
            "Epoch 58/100\n",
            "2/2 - 0s - loss: 0.0050 - accuracy: 1.0000 - val_loss: 0.2369 - val_accuracy: 0.9322 - 38ms/epoch - 19ms/step\n",
            "Epoch 59/100\n",
            "2/2 - 0s - loss: 0.0031 - accuracy: 1.0000 - val_loss: 0.2377 - val_accuracy: 0.9322 - 38ms/epoch - 19ms/step\n",
            "Epoch 60/100\n",
            "2/2 - 0s - loss: 0.0035 - accuracy: 1.0000 - val_loss: 0.2383 - val_accuracy: 0.9322 - 42ms/epoch - 21ms/step\n",
            "Epoch 61/100\n",
            "2/2 - 0s - loss: 0.0030 - accuracy: 1.0000 - val_loss: 0.2385 - val_accuracy: 0.9322 - 41ms/epoch - 21ms/step\n",
            "Epoch 62/100\n",
            "2/2 - 0s - loss: 0.0036 - accuracy: 1.0000 - val_loss: 0.2370 - val_accuracy: 0.9322 - 38ms/epoch - 19ms/step\n",
            "Epoch 63/100\n",
            "2/2 - 0s - loss: 0.0029 - accuracy: 1.0000 - val_loss: 0.2357 - val_accuracy: 0.9322 - 39ms/epoch - 19ms/step\n",
            "Epoch 64/100\n",
            "2/2 - 0s - loss: 0.0029 - accuracy: 1.0000 - val_loss: 0.2349 - val_accuracy: 0.9322 - 39ms/epoch - 19ms/step\n",
            "Epoch 65/100\n",
            "2/2 - 0s - loss: 0.0026 - accuracy: 1.0000 - val_loss: 0.2336 - val_accuracy: 0.9322 - 39ms/epoch - 19ms/step\n",
            "Epoch 66/100\n",
            "2/2 - 0s - loss: 0.0031 - accuracy: 1.0000 - val_loss: 0.2320 - val_accuracy: 0.9322 - 37ms/epoch - 18ms/step\n",
            "Epoch 67/100\n",
            "2/2 - 0s - loss: 0.0033 - accuracy: 1.0000 - val_loss: 0.2310 - val_accuracy: 0.9322 - 39ms/epoch - 19ms/step\n",
            "Epoch 68/100\n",
            "2/2 - 0s - loss: 0.0026 - accuracy: 1.0000 - val_loss: 0.2315 - val_accuracy: 0.9322 - 55ms/epoch - 27ms/step\n",
            "Epoch 69/100\n",
            "2/2 - 0s - loss: 0.0025 - accuracy: 1.0000 - val_loss: 0.2318 - val_accuracy: 0.9322 - 39ms/epoch - 20ms/step\n",
            "Epoch 70/100\n",
            "2/2 - 0s - loss: 0.0034 - accuracy: 1.0000 - val_loss: 0.2318 - val_accuracy: 0.9322 - 40ms/epoch - 20ms/step\n",
            "Epoch 71/100\n",
            "2/2 - 0s - loss: 0.0027 - accuracy: 1.0000 - val_loss: 0.2299 - val_accuracy: 0.9322 - 40ms/epoch - 20ms/step\n",
            "Epoch 72/100\n",
            "2/2 - 0s - loss: 0.0033 - accuracy: 1.0000 - val_loss: 0.2286 - val_accuracy: 0.9322 - 43ms/epoch - 21ms/step\n",
            "Epoch 73/100\n",
            "2/2 - 0s - loss: 0.0023 - accuracy: 1.0000 - val_loss: 0.2267 - val_accuracy: 0.9322 - 38ms/epoch - 19ms/step\n",
            "Epoch 74/100\n",
            "2/2 - 0s - loss: 0.0023 - accuracy: 1.0000 - val_loss: 0.2253 - val_accuracy: 0.9322 - 55ms/epoch - 28ms/step\n",
            "Epoch 75/100\n",
            "2/2 - 0s - loss: 0.0026 - accuracy: 1.0000 - val_loss: 0.2249 - val_accuracy: 0.9322 - 39ms/epoch - 20ms/step\n",
            "Epoch 76/100\n",
            "2/2 - 0s - loss: 0.0023 - accuracy: 1.0000 - val_loss: 0.2244 - val_accuracy: 0.9322 - 39ms/epoch - 20ms/step\n",
            "Epoch 77/100\n",
            "2/2 - 0s - loss: 0.0021 - accuracy: 1.0000 - val_loss: 0.2241 - val_accuracy: 0.9322 - 55ms/epoch - 28ms/step\n",
            "Epoch 78/100\n",
            "2/2 - 0s - loss: 0.0023 - accuracy: 1.0000 - val_loss: 0.2223 - val_accuracy: 0.9322 - 38ms/epoch - 19ms/step\n",
            "Epoch 79/100\n",
            "2/2 - 0s - loss: 0.0020 - accuracy: 1.0000 - val_loss: 0.2200 - val_accuracy: 0.9322 - 42ms/epoch - 21ms/step\n",
            "Epoch 80/100\n",
            "2/2 - 0s - loss: 0.0021 - accuracy: 1.0000 - val_loss: 0.2174 - val_accuracy: 0.9322 - 38ms/epoch - 19ms/step\n",
            "Epoch 81/100\n",
            "2/2 - 0s - loss: 0.0018 - accuracy: 1.0000 - val_loss: 0.2154 - val_accuracy: 0.9322 - 38ms/epoch - 19ms/step\n",
            "Epoch 82/100\n",
            "2/2 - 0s - loss: 0.0026 - accuracy: 1.0000 - val_loss: 0.2146 - val_accuracy: 0.9322 - 37ms/epoch - 19ms/step\n",
            "Epoch 83/100\n",
            "2/2 - 0s - loss: 0.0021 - accuracy: 1.0000 - val_loss: 0.2147 - val_accuracy: 0.9322 - 55ms/epoch - 28ms/step\n",
            "Epoch 84/100\n",
            "2/2 - 0s - loss: 0.0023 - accuracy: 1.0000 - val_loss: 0.2140 - val_accuracy: 0.9322 - 39ms/epoch - 19ms/step\n",
            "Epoch 85/100\n",
            "2/2 - 0s - loss: 0.0020 - accuracy: 1.0000 - val_loss: 0.2141 - val_accuracy: 0.9322 - 39ms/epoch - 19ms/step\n",
            "Epoch 86/100\n",
            "2/2 - 0s - loss: 0.0034 - accuracy: 1.0000 - val_loss: 0.2148 - val_accuracy: 0.9322 - 51ms/epoch - 25ms/step\n",
            "Epoch 87/100\n",
            "2/2 - 0s - loss: 0.0018 - accuracy: 1.0000 - val_loss: 0.2149 - val_accuracy: 0.9322 - 45ms/epoch - 23ms/step\n",
            "Epoch 88/100\n",
            "2/2 - 0s - loss: 0.0020 - accuracy: 1.0000 - val_loss: 0.2139 - val_accuracy: 0.9322 - 38ms/epoch - 19ms/step\n",
            "Epoch 89/100\n",
            "2/2 - 0s - loss: 0.0025 - accuracy: 1.0000 - val_loss: 0.2127 - val_accuracy: 0.9322 - 55ms/epoch - 27ms/step\n",
            "Epoch 90/100\n",
            "2/2 - 0s - loss: 0.0016 - accuracy: 1.0000 - val_loss: 0.2115 - val_accuracy: 0.9322 - 40ms/epoch - 20ms/step\n",
            "Epoch 91/100\n",
            "2/2 - 0s - loss: 0.0016 - accuracy: 1.0000 - val_loss: 0.2109 - val_accuracy: 0.9322 - 45ms/epoch - 23ms/step\n",
            "Epoch 92/100\n",
            "2/2 - 0s - loss: 0.0022 - accuracy: 1.0000 - val_loss: 0.2093 - val_accuracy: 0.9322 - 39ms/epoch - 20ms/step\n",
            "Epoch 93/100\n",
            "2/2 - 0s - loss: 0.0015 - accuracy: 1.0000 - val_loss: 0.2074 - val_accuracy: 0.9322 - 38ms/epoch - 19ms/step\n",
            "Epoch 94/100\n",
            "2/2 - 0s - loss: 0.0021 - accuracy: 1.0000 - val_loss: 0.2071 - val_accuracy: 0.9322 - 38ms/epoch - 19ms/step\n",
            "Epoch 95/100\n",
            "2/2 - 0s - loss: 0.0020 - accuracy: 1.0000 - val_loss: 0.2065 - val_accuracy: 0.9322 - 55ms/epoch - 27ms/step\n",
            "Epoch 96/100\n",
            "2/2 - 0s - loss: 0.0015 - accuracy: 1.0000 - val_loss: 0.2054 - val_accuracy: 0.9322 - 40ms/epoch - 20ms/step\n",
            "Epoch 97/100\n",
            "2/2 - 0s - loss: 0.0015 - accuracy: 1.0000 - val_loss: 0.2047 - val_accuracy: 0.9322 - 38ms/epoch - 19ms/step\n",
            "Epoch 98/100\n",
            "2/2 - 0s - loss: 0.0017 - accuracy: 1.0000 - val_loss: 0.2051 - val_accuracy: 0.9322 - 38ms/epoch - 19ms/step\n",
            "Epoch 99/100\n",
            "2/2 - 0s - loss: 0.0013 - accuracy: 1.0000 - val_loss: 0.2046 - val_accuracy: 0.9322 - 59ms/epoch - 29ms/step\n",
            "Epoch 100/100\n",
            "2/2 - 0s - loss: 0.0016 - accuracy: 1.0000 - val_loss: 0.2038 - val_accuracy: 0.9322 - 42ms/epoch - 21ms/step\n"
          ]
        }
      ],
      "source": [
        "model.compile(loss='sparse_categorical_crossentropy', optimizer='adam', metrics=['accuracy'])\n",
        "history = model.fit(X_train, y_train, validation_data=(X_test,y_test), epochs=100, batch_size=128, verbose=2)"
      ]
    },
    {
      "cell_type": "code",
      "execution_count": null,
      "metadata": {
        "id": "dAEUx4hpz0XB"
      },
      "outputs": [],
      "source": [
        "model.save('badminton2.h5') "
      ]
    },
    {
      "cell_type": "code",
      "execution_count": null,
      "metadata": {
        "colab": {
          "base_uri": "https://localhost:8080/"
        },
        "id": "cc8ogZGd0EOt",
        "outputId": "e7ebc4a5-14e5-42ae-b022-0c90597d19fb"
      },
      "outputs": [
        {
          "name": "stdout",
          "output_type": "stream",
          "text": [
            "2/2 [==============================] - 0s 7ms/step - loss: 0.2038 - accuracy: 0.9322\n"
          ]
        },
        {
          "data": {
            "text/plain": [
              "[0.20376722514629364, 0.9322034120559692]"
            ]
          },
          "execution_count": 89,
          "metadata": {},
          "output_type": "execute_result"
        }
      ],
      "source": [
        "model.evaluate(X_test, y_test)"
      ]
    },
    {
      "cell_type": "code",
      "execution_count": null,
      "metadata": {
        "colab": {
          "base_uri": "https://localhost:8080/",
          "height": 573
        },
        "id": "s-HK9XFa0X-f",
        "outputId": "9d11980c-1497-4d1f-8bd7-de3559042c5f"
      },
      "outputs": [
        {
          "data": {
            "image/png": "[encoded data removed]",
            "text/plain": [
              "<Figure size 432x288 with 1 Axes>"
            ]
          },
          "metadata": {
            "needs_background": "light"
          },
          "output_type": "display_data"
        },
        {
          "data": {
            "image/png": "[encoded data removed]",
            "text/plain": [
              "<Figure size 432x288 with 1 Axes>"
            ]
          },
          "metadata": {
            "needs_background": "light"
          },
          "output_type": "display_data"
        }
      ],
      "source": [
        "# print(history.history.keys())\n",
        "\n",
        "plt.plot(history.history['accuracy'])\n",
        "plt.plot(history.history['val_accuracy'])\n",
        "plt.title('model accuracy')\n",
        "plt.ylabel('accuracy')\n",
        "plt.xlabel('epoch')\n",
        "plt.legend(['train', 'test'], loc='upper left')\n",
        "plt.show()\n",
        "\n",
        "plt.plot(history.history['loss'])\n",
        "plt.plot(history.history['val_loss'])\n",
        "plt.title('model loss')\n",
        "plt.ylabel('loss')\n",
        "plt.xlabel('epoch')\n",
        "plt.legend(['train', 'test'], loc='upper left')\n",
        "plt.show()"
      ]
    }
  ],
  "metadata": {
    "accelerator": "GPU",
    "colab": {
      "provenance": []
    },
    "gpuClass": "standard",
    "kernelspec": {
      "display_name": "Python 3.10.4 64-bit",
      "language": "python",
      "name": "python3"
    },
    "language_info": {
      "name": "python",
      "version": "3.10.4"
    },
    "vscode": {
      "interpreter": {
        "hash": "916dbcbb3f70747c44a77c7bcd40155683ae19c65e1c03b4aa3499c5328201f1"
      }
    }
  },
  "nbformat": 4,
  "nbformat_minor": 0
}
